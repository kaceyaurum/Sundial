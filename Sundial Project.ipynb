{
 "cells": [
  {
   "cell_type": "code",
   "execution_count": 81,
   "metadata": {
    "collapsed": true
   },
   "outputs": [],
   "source": [
    "import numpy as np\n",
    "import pandas as pd\n",
    "import matplotlib.pyplot as plt\n",
    "import csv\n",
    "import numbers\n",
    "% matplotlib inline"
   ]
  },
  {
   "cell_type": "code",
   "execution_count": 2,
   "metadata": {
    "collapsed": false
   },
   "outputs": [],
   "source": [
    "def getdensities(masses, radii):\n",
    "    '''Produces an array of densities from an array of masses and radii\n",
    "    :Arguments:\n",
    "        *masses*\n",
    "            array of masses in grams\n",
    "        *radii*\n",
    "            array of radii\n",
    "    :Returns:\n",
    "        *densities*\n",
    "            array of densities\n",
    "    '''\n",
    "    try:\n",
    "        assert len(masses) == len(radii)\n",
    "    except AssertionError:\n",
    "        print 'The number of masses is not the same as the number of radii'\n",
    "    densities = np.empty(len(masses))\n",
    "    for i in range(len(masses)):\n",
    "        densities[i] += 3. / 4 * masses[i] / np.pi / radii[i] ** 3\n",
    "    return densities"
   ]
  },
  {
   "cell_type": "code",
   "execution_count": 3,
   "metadata": {
    "collapsed": false
   },
   "outputs": [
    {
     "data": {
      "text/plain": [
       "array([ 0.02148592])"
      ]
     },
     "execution_count": 3,
     "metadata": {},
     "output_type": "execute_result"
    }
   ],
   "source": [
    "masses = np.array([90])\n",
    "radii = np.array([10])\n",
    "getdensities(masses, radii)"
   ]
  },
  {
   "cell_type": "code",
   "execution_count": 11,
   "metadata": {
    "collapsed": false
   },
   "outputs": [],
   "source": [
    "f = pd.read_csv('Downloads/exoplanet.eu_catalog.csv')"
   ]
  },
  {
   "cell_type": "code",
   "execution_count": 30,
   "metadata": {
    "collapsed": false
   },
   "outputs": [
    {
     "data": {
      "text/plain": [
       "'11 Com b'"
      ]
     },
     "execution_count": 30,
     "metadata": {},
     "output_type": "execute_result"
    }
   ],
   "source": [
    "f['# name'][0]"
   ]
  },
  {
   "cell_type": "code",
   "execution_count": 79,
   "metadata": {
    "collapsed": false
   },
   "outputs": [],
   "source": [
    "masses = []\n",
    "radii = []\n",
    "reader = csv.reader(f)\n",
    "for i, line in enumerate(reader):\n",
    "    if isinstance(f['mass'][i], numbers.Number) and isinstance(f['radius'][i], numbers.Number):\n",
    "        masses.append(f['mass'][i])\n",
    "        radii.append(f['radius'][i])\n",
    "masses = np.array(masses)\n",
    "radii = np.array(radii)"
   ]
  },
  {
   "cell_type": "code",
   "execution_count": 122,
   "metadata": {
    "collapsed": false
   },
   "outputs": [
    {
     "data": {
      "image/png": "[encoded data removed]",
      "text/plain": [
       "<matplotlib.figure.Figure at 0xcef4048>"
      ]
     },
     "metadata": {},
     "output_type": "display_data"
    }
   ],
   "source": [
    "plt.figure()\n",
    "plt.scatter(f.mass, f.radius)\n",
    "plt.xscale('log')\n",
    "plt.yscale('log')"
   ]
  }
 ],
 "metadata": {
  "anaconda-cloud": {},
  "kernelspec": {
   "display_name": "Python [Root]",
   "language": "python",
   "name": "Python [Root]"
  },
  "language_info": {
   "codemirror_mode": {
    "name": "ipython",
    "version": 2
   },
   "file_extension": ".py",
   "mimetype": "text/x-python",
   "name": "python",
   "nbconvert_exporter": "python",
   "pygments_lexer": "ipython2",
   "version": "2.7.12"
  }
 },
 "nbformat": 4,
 "nbformat_minor": 0
}
